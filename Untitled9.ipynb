{
  "nbformat": 4,
  "nbformat_minor": 0,
  "metadata": {
    "colab": {
      "provenance": []
    },
    "kernelspec": {
      "name": "python3",
      "display_name": "Python 3"
    },
    "language_info": {
      "name": "python"
    }
  },
  "cells": [
    {
      "cell_type": "code",
      "execution_count": 6,
      "metadata": {
        "id": "P1ozjwEs7SM5"
      },
      "outputs": [],
      "source": [
        "import numpy as np\n",
        "\n",
        "data = np.load('flatland_train.npz')\n",
        "X = data['X']\n",
        "y = data['y']\n",
        "\n",
        "y[y != 0] -= 2    # Correct labels so that triangle is mapped to class 1\n",
        "X = X / 255.      # Scale down to range [0, 1]"
      ]
    },
    {
      "cell_type": "code",
      "source": [
        "# # Construct and train your model (don't forget train/test split and other tricks)\n",
        "from tensorflow import keras"
      ],
      "metadata": {
        "id": "Bu9OQcyt7c7F"
      },
      "execution_count": 7,
      "outputs": []
    },
    {
      "cell_type": "code",
      "source": [
        "model = keras.models.Sequential()\n",
        "model.add(keras.layers.Flatten(input_shape=(50, 50)))\n",
        "model.add(keras.layers.Dense(20, activation='relu'))\n",
        "model.add(keras.layers.Dense(20, activation='relu'))\n",
        "model.add(keras.layers.Dense(5, activation='softmax'))\n",
        "\n",
        "model.compile(loss='sparse_categorical_crossentropy', optimizer='SGD', metrics=['accuracy'])\n",
        "model.summary()"
      ],
      "metadata": {
        "colab": {
          "base_uri": "https://localhost:8080/"
        },
        "id": "ycCDhd2o7-z7",
        "outputId": "2dc4399b-967b-4c17-d3ca-a5bee205c087"
      },
      "execution_count": 17,
      "outputs": [
        {
          "output_type": "stream",
          "name": "stdout",
          "text": [
            "Model: \"sequential_6\"\n",
            "_________________________________________________________________\n",
            " Layer (type)                Output Shape              Param #   \n",
            "=================================================================\n",
            " flatten_3 (Flatten)         (None, 2500)              0         \n",
            "                                                                 \n",
            " dense_8 (Dense)             (None, 20)                50020     \n",
            "                                                                 \n",
            " dense_9 (Dense)             (None, 20)                420       \n",
            "                                                                 \n",
            " dense_10 (Dense)            (None, 5)                 105       \n",
            "                                                                 \n",
            "=================================================================\n",
            "Total params: 50,545\n",
            "Trainable params: 50,545\n",
            "Non-trainable params: 0\n",
            "_________________________________________________________________\n"
          ]
        }
      ]
    },
    {
      "cell_type": "code",
      "source": [
        "model.fit(X, y, epochs=10)"
      ],
      "metadata": {
        "colab": {
          "base_uri": "https://localhost:8080/"
        },
        "id": "maK86Ybl8AO4",
        "outputId": "f5707163-bc4e-44e0-bfcb-0480c09a31b9"
      },
      "execution_count": 19,
      "outputs": [
        {
          "output_type": "stream",
          "name": "stdout",
          "text": [
            "Epoch 1/10\n",
            "313/313 [==============================] - 1s 2ms/step - loss: 1.3077 - accuracy: 0.4683\n",
            "Epoch 2/10\n",
            "313/313 [==============================] - 1s 2ms/step - loss: 1.2311 - accuracy: 0.4940\n",
            "Epoch 3/10\n",
            "313/313 [==============================] - 1s 2ms/step - loss: 1.1842 - accuracy: 0.5083\n",
            "Epoch 4/10\n",
            "313/313 [==============================] - 1s 2ms/step - loss: 1.1477 - accuracy: 0.5226\n",
            "Epoch 5/10\n",
            "313/313 [==============================] - 1s 2ms/step - loss: 1.1120 - accuracy: 0.5346\n",
            "Epoch 6/10\n",
            "313/313 [==============================] - 1s 2ms/step - loss: 1.0835 - accuracy: 0.5475\n",
            "Epoch 7/10\n",
            "313/313 [==============================] - 1s 2ms/step - loss: 1.0522 - accuracy: 0.5648\n",
            "Epoch 8/10\n",
            "313/313 [==============================] - 1s 2ms/step - loss: 1.0238 - accuracy: 0.5773\n",
            "Epoch 9/10\n",
            "313/313 [==============================] - 1s 2ms/step - loss: 0.9951 - accuracy: 0.5857\n",
            "Epoch 10/10\n",
            "313/313 [==============================] - 1s 2ms/step - loss: 0.9659 - accuracy: 0.6018\n"
          ]
        },
        {
          "output_type": "execute_result",
          "data": {
            "text/plain": [
              "<keras.callbacks.History at 0x7fa145723990>"
            ]
          },
          "metadata": {},
          "execution_count": 19
        }
      ]
    },
    {
      "cell_type": "code",
      "source": [
        "# # Save the model and upload to git\n",
        "model.save('model.h5')"
      ],
      "metadata": {
        "id": "Ba5fxeB77fzS"
      },
      "execution_count": 20,
      "outputs": []
    },
    {
      "cell_type": "code",
      "source": [],
      "metadata": {
        "id": "fvX8cvtr98Uj"
      },
      "execution_count": null,
      "outputs": []
    }
  ]
}